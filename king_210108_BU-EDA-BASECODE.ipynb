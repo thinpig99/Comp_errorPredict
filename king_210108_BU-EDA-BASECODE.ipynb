{
 "cells": [
  {
   "cell_type": "markdown",
   "metadata": {},
   "source": [
    "# BUSINESS UNDERSTANDING"
   ]
  },
  {
   "cell_type": "markdown",
   "metadata": {},
   "source": [
    "## Summary"
   ]
  },
  {
   "cell_type": "markdown",
   "metadata": {},
   "source": [
    "- 주제: ***비식별화 된 시스템 기록(로그 및 수치 데이터)를 분석***하여 시스템 품질 변화로 사용자에게 불편을 야기하는 요인을 진단\n",
    "\n",
    "- 배경: 다양한 장비/서비스에서 일어나는 시스템 데이터를 통해 사용자의 불편을 예지하기 위해 **'시스템 데이터'** 와 **'사용자 불편 발생 데이터'** 를 분석하여 ***불편을 느낀 사용자*** 와 ***불편 요인들*** 을 찾아주세요.\n",
    "\n",
    "- 목적\n",
    "    1. 데이터를 통해 ***사용자가 불편을 느끼는 원인 분석***\n",
    "    2. ***사용자 관점*** 의 데이터 분석 능력이 뛰어난 인재 발굴"
   ]
  },
  {
   "cell_type": "markdown",
   "metadata": {},
   "source": [
    "## Rule"
   ]
  },
  {
   "cell_type": "markdown",
   "metadata": {},
   "source": [
    "1차 평가\n",
    "\n",
    "1. Evaluation Metric: AUC(사용자로부터 불만 접수가 일어날 확률 예측)\n",
    "2. Public score: 전체 테스트 데이터 중 33%\n",
    "3. Private score: 전체 테스트 데이터 중 67%\n",
    "4. 1차 평가의 최종 순위는 Private score"
   ]
  },
  {
   "cell_type": "markdown",
   "metadata": {},
   "source": [
    "2차 평가\n",
    "\n",
    "   1. 결과분석, 비즈니스 분석\n",
    "   2. 사용자 불만 접수 원인 분석\n",
    "   3. err_data의 err간 관계 해석\n",
    "   4. quality_data 수치 해석\n",
    "   5. err_data와 quality_data간의 관계 해석 필수 포함"
   ]
  },
  {
   "cell_type": "markdown",
   "metadata": {},
   "source": [
    "기타\n",
    "\n",
    "1. 외부데이터 금지\n",
    "2. 사전학습모델 금지\n",
    "3. 제공 된 학습 데이터 외 학습 불가\n",
    "4. 테스트 데이터는 추론 과정에서만 사용 가능(train 불가)"
   ]
  },
  {
   "cell_type": "markdown",
   "metadata": {},
   "source": [
    "## Data Describtion"
   ]
  },
  {
   "cell_type": "markdown",
   "metadata": {},
   "source": [
    "학습 데이터 (user_id: 10,000 ~ 24,999, 15,000명)\n",
    "\n",
    "- train_e: 시스템에 발생한 **에러 로그**\n",
    "- train_q: 시스템 **퀄리티 로그**\n",
    "- train_p: 사용자 불만 및 불만이 접수된 시간"
   ]
  },
  {
   "cell_type": "markdown",
   "metadata": {},
   "source": [
    "테스트 데이터(user_id: 30,000 ~ 44,998, 14999명)\n",
    "\n",
    "- test_e: 상동\n",
    "- test_q: 상동\n",
    "- 테스트 데이터에는 test_p 테이블이 없음"
   ]
  },
  {
   "cell_type": "markdown",
   "metadata": {},
   "source": [
    "## Discussion"
   ]
  },
  {
   "cell_type": "markdown",
   "metadata": {},
   "source": [
    "주어진 기간 내에 err가 발생하지 않은 경우, err_set에 해당 user_id가 존재하지 않음. 즉 train_err, test_err 에 user_id가 없으면 err이 발생하지 않은 것임"
   ]
  },
  {
   "cell_type": "code",
   "execution_count": null,
   "metadata": {},
   "outputs": [],
   "source": []
  },
  {
   "cell_type": "code",
   "execution_count": null,
   "metadata": {},
   "outputs": [],
   "source": []
  },
  {
   "cell_type": "code",
   "execution_count": null,
   "metadata": {},
   "outputs": [],
   "source": []
  },
  {
   "cell_type": "code",
   "execution_count": null,
   "metadata": {},
   "outputs": [],
   "source": []
  },
  {
   "cell_type": "markdown",
   "metadata": {},
   "source": [
    "# IMPORT & LOAD DATA"
   ]
  },
  {
   "cell_type": "code",
   "execution_count": 147,
   "metadata": {},
   "outputs": [],
   "source": [
    "import load_dtypes as ld\n",
    "import warnings\n",
    "warnings.filterwarnings(action='ignore')\n",
    "\n",
    "import os, sys\n",
    "\n",
    "import numpy as np\n",
    "import pandas as pd\n",
    "pd.set_option('display.max_columns', None)\n",
    "pd.set_option('display.max_rows', 500)\n",
    "\n",
    "import matplotlib.pyplot as plt\n",
    "import seaborn as sns\n",
    "\n",
    "from tqdm import tqdm\n",
    "\n",
    "from lightgbm import LGBMClassifier\n",
    "from catboost import CatBoostClassifier\n",
    "from sklearn.ensemble import RandomForestClassifier"
   ]
  },
  {
   "cell_type": "code",
   "execution_count": 5,
   "metadata": {},
   "outputs": [],
   "source": [
    "TRAIN_P_PATH = r'C:\\Users\\Wyatt\\wyatt37/Data/systemError/train_problem_data.csv'\n",
    "TRAIN_Q_PATH = r'C:\\Users\\Wyatt\\wyatt37/Data/systemError/train_quality_data.csv'\n",
    "TRAIN_E_PATH = r'C:\\Users\\Wyatt\\wyatt37/Data/systemError/train_err_data.csv'\n",
    "TEST_Q_PATH = r'C:\\Users\\Wyatt\\wyatt37/Data/systemError/test_quality_data.csv'\n",
    "TEST_E_PATH = r'C:\\Users\\Wyatt\\wyatt37/Data/systemError/test_err_data.csv'\n",
    "SUBMISSION_PATH = r'C:\\Users\\Wyatt\\wyatt37/Data/systemError/sample_submission.csv'"
   ]
  },
  {
   "cell_type": "code",
   "execution_count": 221,
   "metadata": {},
   "outputs": [
    {
     "name": "stdout",
     "output_type": "stream",
     "text": [
      "C:\\Users\\Wyatt\\wyatt37/Data/systemError/train_problem_data.csv\n",
      "C:\\Users\\Wyatt\\wyatt37/Data/systemError/train_quality_data.csv\n",
      "C:\\Users\\Wyatt\\wyatt37/Data/systemError/train_err_data.csv\n",
      "C:\\Users\\Wyatt\\wyatt37/Data/systemError/test_quality_data.csv\n",
      "C:\\Users\\Wyatt\\wyatt37/Data/systemError/test_err_data.csv\n",
      "Wall time: 1min 16s\n"
     ]
    }
   ],
   "source": [
    "%%time\n",
    "train_p = ld.load_dtypes(TRAIN_P_PATH)\n",
    "train_q = ld.load_dtypes(TRAIN_Q_PATH)\n",
    "train_e = ld.load_dtypes(TRAIN_E_PATH)\n",
    "test_q = ld.load_dtypes(TEST_Q_PATH)\n",
    "test_e = ld.load_dtypes(TEST_E_PATH)\n",
    "submission = pd.read_csv(SUBMISSION_PATH)"
   ]
  },
  {
   "cell_type": "markdown",
   "metadata": {},
   "source": [
    "# DATA UNDERSTANDING"
   ]
  },
  {
   "cell_type": "markdown",
   "metadata": {},
   "source": [
    "각 데이터 테이블의 이름이 너무 길기 때문에 아래와 같이 정의하겠습니다.\n",
    "\n",
    "- train_problem_data -> train_p\n",
    "- train_quality_data -> train_q\n",
    "- train_err_data -> train_e\n",
    "- test_quality_data -> test_q\n",
    "- test_err_data -> test_e"
   ]
  },
  {
   "cell_type": "markdown",
   "metadata": {},
   "source": [
    "## Data Table Opimization"
   ]
  },
  {
   "cell_type": "markdown",
   "metadata": {},
   "source": [
    "### train_p optimization"
   ]
  },
  {
   "cell_type": "code",
   "execution_count": 222,
   "metadata": {},
   "outputs": [
    {
     "name": "stdout",
     "output_type": "stream",
     "text": [
      "<class 'pandas.core.frame.DataFrame'>\n",
      "RangeIndex: 5429 entries, 0 to 5428\n",
      "Data columns (total 2 columns):\n",
      " #   Column   Non-Null Count  Dtype\n",
      "---  ------   --------------  -----\n",
      " 0   user_id  5429 non-null   int16\n",
      " 1   time     5429 non-null   int64\n",
      "dtypes: int16(1), int64(1)\n",
      "memory usage: 53.1 KB\n"
     ]
    }
   ],
   "source": [
    "train_p.info()"
   ]
  },
  {
   "cell_type": "markdown",
   "metadata": {},
   "source": [
    "user당 problem이 한개가 아닙니다.<br>\n",
    "user_id 를 count 해서 target으로 넣어주겠습니다. null user를 0으로 넣어주어야겠습니다.<br>\n",
    "그리고 time을 x_train으로 붙여서 정보를 얻어봐야겠습니다."
   ]
  },
  {
   "cell_type": "code",
   "execution_count": 223,
   "metadata": {},
   "outputs": [],
   "source": [
    "# 10001부터 24999까지의 index를 만들어줍니다.\n",
    "user_id_idx = np.array(range(10001, 25000, 1))\n",
    "\n",
    "# train_new_p라는 새로운 df를 만들고 index는 위에서 만든 user_id_idx 로 지정해줍니다.\n",
    "train_new_p = pd.DataFrame(index = user_id_idx)\n",
    "\n",
    "# target이라는 칼럼을 만들고, train_p를 user_id를 groupby해서 time을 count한 값을 넣어줍니다.\n",
    "# index가 지정되어 있기 때문에, 해당 값에만 들어갑니다.\n",
    "train_new_p['target'] = train_p.groupby('user_id')['time'].count()\n",
    "\n",
    "# train_p에 존재하지 않는 user_id는 값을 받지 못해 Nan값이므로, 에러가 나지 않았다는 뜻의 0으로 채워줍니다.\n",
    "train_new_p = train_new_p.fillna(0)"
   ]
  },
  {
   "cell_type": "code",
   "execution_count": 225,
   "metadata": {},
   "outputs": [
    {
     "name": "stdout",
     "output_type": "stream",
     "text": [
      "<class 'pandas.core.frame.DataFrame'>\n",
      "Int64Index: 14999 entries, 10001 to 24999\n",
      "Data columns (total 1 columns):\n",
      " #   Column  Non-Null Count  Dtype  \n",
      "---  ------  --------------  -----  \n",
      " 0   target  14999 non-null  float64\n",
      "dtypes: float64(1)\n",
      "memory usage: 234.4 KB\n"
     ]
    }
   ],
   "source": [
    "train_new_p.info()"
   ]
  },
  {
   "cell_type": "code",
   "execution_count": 227,
   "metadata": {},
   "outputs": [
    {
     "data": {
      "text/html": [
       "<div>\n",
       "<style scoped>\n",
       "    .dataframe tbody tr th:only-of-type {\n",
       "        vertical-align: middle;\n",
       "    }\n",
       "\n",
       "    .dataframe tbody tr th {\n",
       "        vertical-align: top;\n",
       "    }\n",
       "\n",
       "    .dataframe thead th {\n",
       "        text-align: right;\n",
       "    }\n",
       "</style>\n",
       "<table border=\"1\" class=\"dataframe\">\n",
       "  <thead>\n",
       "    <tr style=\"text-align: right;\">\n",
       "      <th></th>\n",
       "      <th>count</th>\n",
       "      <th>mean</th>\n",
       "      <th>std</th>\n",
       "      <th>min</th>\n",
       "      <th>25%</th>\n",
       "      <th>50%</th>\n",
       "      <th>75%</th>\n",
       "      <th>max</th>\n",
       "    </tr>\n",
       "  </thead>\n",
       "  <tbody>\n",
       "    <tr>\n",
       "      <th>target</th>\n",
       "      <td>14999.0</td>\n",
       "      <td>0.361957</td>\n",
       "      <td>0.544458</td>\n",
       "      <td>0.0</td>\n",
       "      <td>0.0</td>\n",
       "      <td>0.0</td>\n",
       "      <td>1.0</td>\n",
       "      <td>5.0</td>\n",
       "    </tr>\n",
       "  </tbody>\n",
       "</table>\n",
       "</div>"
      ],
      "text/plain": [
       "          count      mean       std  min  25%  50%  75%  max\n",
       "target  14999.0  0.361957  0.544458  0.0  0.0  0.0  1.0  5.0"
      ]
     },
     "execution_count": 227,
     "metadata": {},
     "output_type": "execute_result"
    }
   ],
   "source": [
    "# 기술통계를 살펴보면, max가 5로 되어있습니다.\n",
    "# 일부러 {0,1} 의 이진분류로 값을 넣지 않고, 0~5의 int 값으로 넣었습니다.\n",
    "# 회귀 문제로 가져갈 수도 있습니다.\n",
    "train_new_p.describe().T"
   ]
  },
  {
   "cell_type": "code",
   "execution_count": 228,
   "metadata": {},
   "outputs": [
    {
     "data": {
      "text/html": [
       "<div>\n",
       "<style scoped>\n",
       "    .dataframe tbody tr th:only-of-type {\n",
       "        vertical-align: middle;\n",
       "    }\n",
       "\n",
       "    .dataframe tbody tr th {\n",
       "        vertical-align: top;\n",
       "    }\n",
       "\n",
       "    .dataframe thead th {\n",
       "        text-align: right;\n",
       "    }\n",
       "</style>\n",
       "<table border=\"1\" class=\"dataframe\">\n",
       "  <thead>\n",
       "    <tr style=\"text-align: right;\">\n",
       "      <th></th>\n",
       "      <th>target</th>\n",
       "    </tr>\n",
       "  </thead>\n",
       "  <tbody>\n",
       "    <tr>\n",
       "      <th>10001</th>\n",
       "      <td>1.0</td>\n",
       "    </tr>\n",
       "    <tr>\n",
       "      <th>10002</th>\n",
       "      <td>0.0</td>\n",
       "    </tr>\n",
       "    <tr>\n",
       "      <th>10003</th>\n",
       "      <td>0.0</td>\n",
       "    </tr>\n",
       "    <tr>\n",
       "      <th>10004</th>\n",
       "      <td>1.0</td>\n",
       "    </tr>\n",
       "    <tr>\n",
       "      <th>10005</th>\n",
       "      <td>1.0</td>\n",
       "    </tr>\n",
       "  </tbody>\n",
       "</table>\n",
       "</div>"
      ],
      "text/plain": [
       "       target\n",
       "10001     1.0\n",
       "10002     0.0\n",
       "10003     0.0\n",
       "10004     1.0\n",
       "10005     1.0"
      ]
     },
     "execution_count": 228,
     "metadata": {},
     "output_type": "execute_result"
    }
   ],
   "source": [
    "train_new_p.head()"
   ]
  },
  {
   "cell_type": "markdown",
   "metadata": {},
   "source": [
    "### train_q optimization"
   ]
  },
  {
   "cell_type": "code",
   "execution_count": 170,
   "metadata": {},
   "outputs": [
    {
     "name": "stdout",
     "output_type": "stream",
     "text": [
      "<class 'pandas.core.frame.DataFrame'>\n",
      "RangeIndex: 828624 entries, 0 to 828623\n",
      "Data columns (total 16 columns):\n",
      " #   Column      Non-Null Count   Dtype   \n",
      "---  ------      --------------   -----   \n",
      " 0   time        828624 non-null  int64   \n",
      " 1   user_id     828624 non-null  int16   \n",
      " 2   fwver       788544 non-null  category\n",
      " 3   quality_0   684192 non-null  float32 \n",
      " 4   quality_1   828624 non-null  int16   \n",
      " 5   quality_2   788511 non-null  float32 \n",
      " 6   quality_3   828624 non-null  int8    \n",
      " 7   quality_4   828624 non-null  int8    \n",
      " 8   quality_5   828604 non-null  category\n",
      " 9   quality_6   828624 non-null  int16   \n",
      " 10  quality_7   828624 non-null  category\n",
      " 11  quality_8   828624 non-null  category\n",
      " 12  quality_9   828624 non-null  category\n",
      " 13  quality_10  828624 non-null  category\n",
      " 14  quality_11  828624 non-null  int8    \n",
      " 15  quality_12  828624 non-null  int8    \n",
      "dtypes: category(6), float32(2), int16(3), int64(1), int8(4)\n",
      "memory usage: 28.9 MB\n"
     ]
    }
   ],
   "source": [
    "train_q.info()"
   ]
  },
  {
   "cell_type": "markdown",
   "metadata": {},
   "source": [
    "살펴본 결과 q 데이터는 전부 category라고 보는 게 맞는 것 같습니다. 형변환을 해주어야겠습니다.<br>\n",
    "time도 데이트타임으로 짤라줍시다. 시간단위로 짜릅니다."
   ]
  },
  {
   "cell_type": "code",
   "execution_count": 220,
   "metadata": {},
   "outputs": [],
   "source": [
    "# 먼저 퀄리티 피쳐들을 리스트로 받아줍니다.\n",
    "quality_features = ['quality_0', 'quality_1', 'quality_2',\n",
    "       'quality_3', 'quality_4', 'quality_5', 'quality_6', 'quality_7',\n",
    "       'quality_8', 'quality_9', 'quality_10', 'quality_11', 'quality_12']\n",
    "\n",
    "# test셋에도 써야 하니 함수로 만들겠습니다.\n",
    "def quality_as_category(df):\n",
    "    # 함수 정의: df를 받아서 quality features를 category로 형변환해서 반환하는 함수\n",
    "    \n",
    "    for col in quality_features:\n",
    "        try: # category가 아니면 에러가 나니, try-except로 합니다.\n",
    "            if df[col].dtype == 'category':\n",
    "                pass\n",
    "        except: # error가 나면 category가 아니라는 뜻으로, 형변환을 해줍니다.\n",
    "            df[col] = df[col].astype('category')\n",
    "            \n",
    "    return df"
   ]
  },
  {
   "cell_type": "code",
   "execution_count": 229,
   "metadata": {},
   "outputs": [],
   "source": [
    "train_q = quality_as_category(train_q)"
   ]
  },
  {
   "cell_type": "code",
   "execution_count": 230,
   "metadata": {},
   "outputs": [
    {
     "name": "stdout",
     "output_type": "stream",
     "text": [
      "<class 'pandas.core.frame.DataFrame'>\n",
      "RangeIndex: 828624 entries, 0 to 828623\n",
      "Data columns (total 16 columns):\n",
      " #   Column      Non-Null Count   Dtype   \n",
      "---  ------      --------------   -----   \n",
      " 0   time        828624 non-null  int64   \n",
      " 1   user_id     828624 non-null  int16   \n",
      " 2   fwver       788544 non-null  category\n",
      " 3   quality_0   684192 non-null  category\n",
      " 4   quality_1   828624 non-null  category\n",
      " 5   quality_2   788511 non-null  category\n",
      " 6   quality_3   828624 non-null  category\n",
      " 7   quality_4   828624 non-null  category\n",
      " 8   quality_5   828604 non-null  category\n",
      " 9   quality_6   828624 non-null  category\n",
      " 10  quality_7   828624 non-null  category\n",
      " 11  quality_8   828624 non-null  category\n",
      " 12  quality_9   828624 non-null  category\n",
      " 13  quality_10  828624 non-null  category\n",
      " 14  quality_11  828624 non-null  category\n",
      " 15  quality_12  828624 non-null  category\n",
      "dtypes: category(14), int16(1), int64(1)\n",
      "memory usage: 25.0 MB\n"
     ]
    }
   ],
   "source": [
    "train_q.info()"
   ]
  },
  {
   "cell_type": "markdown",
   "metadata": {},
   "source": [
    "### train_e opimization"
   ]
  },
  {
   "cell_type": "code",
   "execution_count": 231,
   "metadata": {},
   "outputs": [
    {
     "name": "stdout",
     "output_type": "stream",
     "text": [
      "<class 'pandas.core.frame.DataFrame'>\n",
      "RangeIndex: 16554663 entries, 0 to 16554662\n",
      "Data columns (total 6 columns):\n",
      " #   Column    Dtype   \n",
      "---  ------    -----   \n",
      " 0   user_id   int16   \n",
      " 1   time      int64   \n",
      " 2   model_nm  category\n",
      " 3   fwver     category\n",
      " 4   errtype   int8    \n",
      " 5   errcode   category\n",
      "dtypes: category(3), int16(1), int64(1), int8(1)\n",
      "memory usage: 236.9 MB\n"
     ]
    }
   ],
   "source": [
    "train_e.info()"
   ]
  },
  {
   "cell_type": "markdown",
   "metadata": {},
   "source": [
    "errtype은 category 입니다. 형변환 해줍니다.<br>\n",
    "time도 마찬가지로 데이트타임으로 짤라줍니다. 시간단위입니다."
   ]
  },
  {
   "cell_type": "code",
   "execution_count": 232,
   "metadata": {},
   "outputs": [
    {
     "name": "stdout",
     "output_type": "stream",
     "text": [
      "<class 'pandas.core.frame.DataFrame'>\n",
      "RangeIndex: 16554663 entries, 0 to 16554662\n",
      "Data columns (total 6 columns):\n",
      " #   Column    Dtype   \n",
      "---  ------    -----   \n",
      " 0   user_id   int16   \n",
      " 1   time      int64   \n",
      " 2   model_nm  category\n",
      " 3   fwver     category\n",
      " 4   errtype   category\n",
      " 5   errcode   category\n",
      "dtypes: category(4), int16(1), int64(1)\n",
      "memory usage: 236.9 MB\n"
     ]
    }
   ],
   "source": [
    "# errtype 변수는 category로 형변환 해줍니다.\n",
    "train_e['errtype'] = train_e.errtype.astype('category')\n",
    "train_e.info()"
   ]
  },
  {
   "cell_type": "markdown",
   "metadata": {},
   "source": [
    "### test_q optimization"
   ]
  },
  {
   "cell_type": "code",
   "execution_count": 184,
   "metadata": {},
   "outputs": [
    {
     "name": "stdout",
     "output_type": "stream",
     "text": [
      "<class 'pandas.core.frame.DataFrame'>\n",
      "RangeIndex: 747972 entries, 0 to 747971\n",
      "Data columns (total 16 columns):\n",
      " #   Column      Non-Null Count   Dtype   \n",
      "---  ------      --------------   -----   \n",
      " 0   time        747972 non-null  int64   \n",
      " 1   user_id     747972 non-null  uint16  \n",
      " 2   fwver       725208 non-null  category\n",
      " 3   quality_0   641388 non-null  float32 \n",
      " 4   quality_1   747961 non-null  category\n",
      " 5   quality_2   726857 non-null  float32 \n",
      " 6   quality_3   747972 non-null  int8    \n",
      " 7   quality_4   747972 non-null  int8    \n",
      " 8   quality_5   747928 non-null  category\n",
      " 9   quality_6   747972 non-null  int16   \n",
      " 10  quality_7   747972 non-null  category\n",
      " 11  quality_8   747972 non-null  category\n",
      " 12  quality_9   747972 non-null  category\n",
      " 13  quality_10  747972 non-null  category\n",
      " 14  quality_11  747972 non-null  int8    \n",
      " 15  quality_12  747972 non-null  int8    \n",
      "dtypes: category(7), float32(2), int16(1), int64(1), int8(4), uint16(1)\n",
      "memory usage: 25.4 MB\n"
     ]
    }
   ],
   "source": [
    "test_q.info()"
   ]
  },
  {
   "cell_type": "markdown",
   "metadata": {},
   "source": [
    "마찬가지입니다."
   ]
  },
  {
   "cell_type": "code",
   "execution_count": 233,
   "metadata": {},
   "outputs": [],
   "source": [
    "test_q = quality_as_category(test_q)"
   ]
  },
  {
   "cell_type": "code",
   "execution_count": 234,
   "metadata": {},
   "outputs": [
    {
     "name": "stdout",
     "output_type": "stream",
     "text": [
      "<class 'pandas.core.frame.DataFrame'>\n",
      "RangeIndex: 747972 entries, 0 to 747971\n",
      "Data columns (total 16 columns):\n",
      " #   Column      Non-Null Count   Dtype   \n",
      "---  ------      --------------   -----   \n",
      " 0   time        747972 non-null  int64   \n",
      " 1   user_id     747972 non-null  uint16  \n",
      " 2   fwver       725208 non-null  category\n",
      " 3   quality_0   641388 non-null  category\n",
      " 4   quality_1   747961 non-null  category\n",
      " 5   quality_2   726857 non-null  category\n",
      " 6   quality_3   747972 non-null  category\n",
      " 7   quality_4   747972 non-null  category\n",
      " 8   quality_5   747928 non-null  category\n",
      " 9   quality_6   747972 non-null  category\n",
      " 10  quality_7   747972 non-null  category\n",
      " 11  quality_8   747972 non-null  category\n",
      " 12  quality_9   747972 non-null  category\n",
      " 13  quality_10  747972 non-null  category\n",
      " 14  quality_11  747972 non-null  category\n",
      " 15  quality_12  747972 non-null  category\n",
      "dtypes: category(14), int64(1), uint16(1)\n",
      "memory usage: 22.6 MB\n"
     ]
    }
   ],
   "source": [
    "test_q.info()"
   ]
  },
  {
   "cell_type": "markdown",
   "metadata": {},
   "source": [
    "### test_e optimization"
   ]
  },
  {
   "cell_type": "code",
   "execution_count": 186,
   "metadata": {},
   "outputs": [
    {
     "name": "stdout",
     "output_type": "stream",
     "text": [
      "<class 'pandas.core.frame.DataFrame'>\n",
      "RangeIndex: 16532648 entries, 0 to 16532647\n",
      "Data columns (total 6 columns):\n",
      " #   Column    Dtype   \n",
      "---  ------    -----   \n",
      " 0   user_id   uint16  \n",
      " 1   time      int64   \n",
      " 2   model_nm  category\n",
      " 3   fwver     category\n",
      " 4   errtype   int8    \n",
      " 5   errcode   category\n",
      "dtypes: category(3), int64(1), int8(1), uint16(1)\n",
      "memory usage: 236.6 MB\n"
     ]
    }
   ],
   "source": [
    "test_e.info()"
   ]
  },
  {
   "cell_type": "code",
   "execution_count": 235,
   "metadata": {},
   "outputs": [
    {
     "name": "stdout",
     "output_type": "stream",
     "text": [
      "<class 'pandas.core.frame.DataFrame'>\n",
      "RangeIndex: 16532648 entries, 0 to 16532647\n",
      "Data columns (total 6 columns):\n",
      " #   Column    Dtype   \n",
      "---  ------    -----   \n",
      " 0   user_id   uint16  \n",
      " 1   time      int64   \n",
      " 2   model_nm  category\n",
      " 3   fwver     category\n",
      " 4   errtype   category\n",
      " 5   errcode   category\n",
      "dtypes: category(4), int64(1), uint16(1)\n",
      "memory usage: 236.6 MB\n"
     ]
    }
   ],
   "source": [
    "test_e['errtype'] = test_e.errtype.astype('category')\n",
    "test_e.info()"
   ]
  },
  {
   "cell_type": "code",
   "execution_count": 187,
   "metadata": {},
   "outputs": [
    {
     "data": {
      "text/html": [
       "<div>\n",
       "<style scoped>\n",
       "    .dataframe tbody tr th:only-of-type {\n",
       "        vertical-align: middle;\n",
       "    }\n",
       "\n",
       "    .dataframe tbody tr th {\n",
       "        vertical-align: top;\n",
       "    }\n",
       "\n",
       "    .dataframe thead th {\n",
       "        text-align: right;\n",
       "    }\n",
       "</style>\n",
       "<table border=\"1\" class=\"dataframe\">\n",
       "  <thead>\n",
       "    <tr style=\"text-align: right;\">\n",
       "      <th></th>\n",
       "      <th>user_id</th>\n",
       "      <th>problem</th>\n",
       "    </tr>\n",
       "  </thead>\n",
       "  <tbody>\n",
       "    <tr>\n",
       "      <th>0</th>\n",
       "      <td>30000</td>\n",
       "      <td>0</td>\n",
       "    </tr>\n",
       "    <tr>\n",
       "      <th>1</th>\n",
       "      <td>30001</td>\n",
       "      <td>0</td>\n",
       "    </tr>\n",
       "    <tr>\n",
       "      <th>2</th>\n",
       "      <td>30002</td>\n",
       "      <td>0</td>\n",
       "    </tr>\n",
       "    <tr>\n",
       "      <th>3</th>\n",
       "      <td>30003</td>\n",
       "      <td>0</td>\n",
       "    </tr>\n",
       "    <tr>\n",
       "      <th>4</th>\n",
       "      <td>30004</td>\n",
       "      <td>0</td>\n",
       "    </tr>\n",
       "    <tr>\n",
       "      <th>...</th>\n",
       "      <td>...</td>\n",
       "      <td>...</td>\n",
       "    </tr>\n",
       "    <tr>\n",
       "      <th>14994</th>\n",
       "      <td>44994</td>\n",
       "      <td>0</td>\n",
       "    </tr>\n",
       "    <tr>\n",
       "      <th>14995</th>\n",
       "      <td>44995</td>\n",
       "      <td>0</td>\n",
       "    </tr>\n",
       "    <tr>\n",
       "      <th>14996</th>\n",
       "      <td>44996</td>\n",
       "      <td>0</td>\n",
       "    </tr>\n",
       "    <tr>\n",
       "      <th>14997</th>\n",
       "      <td>44997</td>\n",
       "      <td>0</td>\n",
       "    </tr>\n",
       "    <tr>\n",
       "      <th>14998</th>\n",
       "      <td>44998</td>\n",
       "      <td>0</td>\n",
       "    </tr>\n",
       "  </tbody>\n",
       "</table>\n",
       "<p>14999 rows × 2 columns</p>\n",
       "</div>"
      ],
      "text/plain": [
       "       user_id  problem\n",
       "0        30000        0\n",
       "1        30001        0\n",
       "2        30002        0\n",
       "3        30003        0\n",
       "4        30004        0\n",
       "...        ...      ...\n",
       "14994    44994        0\n",
       "14995    44995        0\n",
       "14996    44996        0\n",
       "14997    44997        0\n",
       "14998    44998        0\n",
       "\n",
       "[14999 rows x 2 columns]"
      ]
     },
     "execution_count": 187,
     "metadata": {},
     "output_type": "execute_result"
    }
   ],
   "source": [
    "submission"
   ]
  },
  {
   "cell_type": "markdown",
   "metadata": {},
   "source": [
    "## Unique Values Check"
   ]
  },
  {
   "cell_type": "code",
   "execution_count": 236,
   "metadata": {},
   "outputs": [],
   "source": [
    "# category feature가 많으니 unique value를 체크해야 합니다.\n",
    "# 그와 함께 value_counts()도 체크해서 imbalance를 체크해야 합니다.\n",
    "\n",
    "def show_unique(train):\n",
    "    # 함수정의: df를 받아서 각 칼럼에 대해 category는 unique()와 value_counts()[:10] 를 반환하는 함수\n",
    "    \n",
    "    columns = train.columns\n",
    "    for col in columns:\n",
    "        try: # 마찬가지로 try except를 씁니다.\n",
    "            if (train[col].dtype == 'category'):\n",
    "                print(\"----------------------------------------\")\n",
    "                print(\"{}'s Unique values count: \".format(col), train[col].nunique())\n",
    "                print(\"{}'s Unique values: \".format(col))\n",
    "                print(train[col].unique())\n",
    "                print(train[col].value_counts()[:10])\n",
    "            else:\n",
    "                pass\n",
    "        except:\n",
    "            pass"
   ]
  },
  {
   "cell_type": "code",
   "execution_count": 237,
   "metadata": {},
   "outputs": [
    {
     "name": "stdout",
     "output_type": "stream",
     "text": [
      "----------------------------------------\n",
      "fwver's Unique values count:  27\n",
      "fwver's Unique values: \n",
      "[05.15.2138, 04.22.1750, 04.16.3553, 04.33.1261, 04.22.1778, ..., 04.16.3439, 04.73.2571, 05.15.2114, 04.16.3345, 04.22.1442]\n",
      "Length: 28\n",
      "Categories (27, object): [05.15.2138, 04.22.1750, 04.16.3553, 04.33.1261, ..., 04.73.2571, 05.15.2114, 04.16.3345, 04.22.1442]\n",
      "05.15.2138    163236\n",
      "04.22.1750    142032\n",
      "04.33.1261    131340\n",
      "04.16.3553    111996\n",
      "03.11.1167    104148\n",
      "04.33.1185     66024\n",
      "04.22.1778     56472\n",
      "04.22.1684      3420\n",
      "09.17.1431      3384\n",
      "04.16.3571      2232\n",
      "Name: fwver, dtype: int64\n",
      "----------------------------------------\n",
      "quality_0's Unique values count:  753\n",
      "quality_0's Unique values: \n",
      "[0.0, 2.0, -1.0, NaN, 1.0, ..., 122.0, 228.0, 305.0, 188.0, 2351.0]\n",
      "Length: 754\n",
      "Categories (753, float64): [0.0, 2.0, -1.0, 1.0, ..., 228.0, 305.0, 188.0, 2351.0]\n",
      " 0.0    542790\n",
      "-1.0    130828\n",
      " 1.0      2097\n",
      " 2.0      1252\n",
      " 3.0       518\n",
      " 4.0       410\n",
      " 5.0       385\n",
      " 6.0       358\n",
      " 7.0       314\n",
      " 9.0       298\n",
      "Name: quality_0, dtype: int64\n",
      "----------------------------------------\n",
      "quality_1's Unique values count:  31\n",
      "quality_1's Unique values: \n",
      "[0, -1, 1, 3, 2, ..., 169, 171, 170, 88, 40]\n",
      "Length: 31\n",
      "Categories (31, int64): [0, -1, 1, 3, ..., 171, 170, 88, 40]\n",
      " 0    670270\n",
      "-1    153649\n",
      " 1      2567\n",
      " 2      1140\n",
      " 3       391\n",
      " 4       202\n",
      " 5       134\n",
      " 6        71\n",
      " 7        50\n",
      " 8        35\n",
      "Name: quality_1, dtype: int64\n",
      "----------------------------------------\n",
      "quality_2's Unique values count:  798\n",
      "quality_2's Unique values: \n",
      "[0.0, 1.0, -1.0, 2.0, 13.0, ..., 122.0, 228.0, 305.0, 188.0, 2351.0]\n",
      "Length: 799\n",
      "Categories (798, float64): [0.0, 1.0, -1.0, 2.0, ..., 228.0, 305.0, 188.0, 2351.0]\n",
      " 0.0    632469\n",
      "-1.0    144392\n",
      " 1.0      2937\n",
      " 2.0      1073\n",
      " 3.0       580\n",
      " 4.0       455\n",
      " 5.0       427\n",
      " 6.0       386\n",
      " 7.0       337\n",
      " 9.0       314\n",
      "Name: quality_2, dtype: int64\n",
      "----------------------------------------\n",
      "quality_3's Unique values count:  1\n",
      "quality_3's Unique values: \n",
      "[0]\n",
      "Categories (1, int64): [0]\n",
      "0    828624\n",
      "Name: quality_3, dtype: int64\n",
      "----------------------------------------\n",
      "quality_4's Unique values count:  1\n",
      "quality_4's Unique values: \n",
      "[0]\n",
      "Categories (1, int64): [0]\n",
      "0    828624\n",
      "Name: quality_4, dtype: int64\n",
      "----------------------------------------\n",
      "quality_5's Unique values count:  4744\n",
      "quality_5's Unique values: \n",
      "[0, 4, 8, 2, 1, ..., 19,686, 10,256, 98,175, 7,998, 9,558]\n",
      "Length: 4745\n",
      "Categories (4744, object): [0, 4, 8, 2, ..., 10,256, 98,175, 7,998, 9,558]\n",
      "0     428096\n",
      "-1    153354\n",
      "1      56171\n",
      "2      35978\n",
      "3      21596\n",
      "4      11204\n",
      "5       8536\n",
      "6       6836\n",
      "7       5506\n",
      "8       4495\n",
      "Name: quality_5, dtype: int64\n",
      "----------------------------------------\n",
      "quality_6's Unique values count:  549\n",
      "quality_6's Unique values: \n",
      "[0, 1, -1, 44, 87, ..., 591, 291, 237, 586, 417]\n",
      "Length: 549\n",
      "Categories (549, int64): [0, 1, -1, 44, ..., 291, 237, 586, 417]\n",
      " 0      662217\n",
      "-1      153531\n",
      " 600      1852\n",
      " 1        1347\n",
      " 5         644\n",
      " 2         603\n",
      " 3         475\n",
      " 6         445\n",
      " 4         408\n",
      " 10        320\n",
      "Name: quality_6, dtype: int64\n",
      "----------------------------------------\n",
      "quality_7's Unique values count:  884\n",
      "quality_7's Unique values: \n",
      "[0, 2, 44, 87, 36, ..., 204, 3,772, 2,021, 744, 614]\n",
      "Length: 884\n",
      "Categories (884, object): [0, 2, 44, 87, ..., 3,772, 2,021, 744, 614]\n",
      "0     757788\n",
      "1       6768\n",
      "2       3648\n",
      "5       3456\n",
      "6       2688\n",
      "3       2568\n",
      "4       2124\n",
      "10      1632\n",
      "11      1452\n",
      "7       1164\n",
      "Name: quality_7, dtype: int64\n",
      "----------------------------------------\n",
      "quality_8's Unique values count:  42\n",
      "quality_8's Unique values: \n",
      "[0, 1, 8, 5, 11, ..., 31, 1,317, 24, 47, 37]\n",
      "Length: 42\n",
      "Categories (42, object): [0, 1, 8, 5, ..., 1,317, 24, 47, 37]\n",
      "0    787812\n",
      "1     19104\n",
      "2      8832\n",
      "3      4020\n",
      "4      2592\n",
      "5      1692\n",
      "6      1116\n",
      "7       744\n",
      "8       480\n",
      "9       384\n",
      "Name: quality_8, dtype: int64\n",
      "----------------------------------------\n",
      "quality_9's Unique values count:  523\n",
      "quality_9's Unique values: \n",
      "[0, 1, 2, 3, 13, ..., 2,357, 1,022, 811, 582, 2,506]\n",
      "Length: 523\n",
      "Categories (523, object): [0, 1, 2, 3, ..., 1,022, 811, 582, 2,506]\n",
      "0    796284\n",
      "1      9024\n",
      "2      2772\n",
      "3      1800\n",
      "4      1416\n",
      "6      1176\n",
      "5      1152\n",
      "7       564\n",
      "8       420\n",
      "9       396\n",
      "Name: quality_9, dtype: int64\n",
      "----------------------------------------\n",
      "quality_10's Unique values count:  4200\n",
      "quality_10's Unique values: \n",
      "[4, 8, 0, 2, 5, ..., 4,180, 30,450, 108,441, 9,558, 1,540]\n",
      "Length: 4200\n",
      "Categories (4200, object): [4, 8, 0, 2, ..., 30,450, 108,441, 9,558, 1,540]\n",
      "3    99828\n",
      "2    81732\n",
      "0    59028\n",
      "1    58152\n",
      "4    54948\n",
      "5    40812\n",
      "6    32220\n",
      "7    24036\n",
      "8    19212\n",
      "9    15756\n",
      "Name: quality_10, dtype: int64\n",
      "----------------------------------------\n",
      "quality_11's Unique values count:  12\n",
      "quality_11's Unique values: \n",
      "[0, -1, 1, 3, 2, ..., 6, 9, 8, 14, 7]\n",
      "Length: 12\n",
      "Categories (12, int64): [0, -1, 1, 3, ..., 9, 8, 14, 7]\n",
      " 0     672229\n",
      "-1     153678\n",
      " 1       2428\n",
      " 2        203\n",
      " 3         50\n",
      " 4         19\n",
      " 5          8\n",
      " 6          5\n",
      " 14         1\n",
      " 9          1\n",
      "Name: quality_11, dtype: int64\n",
      "----------------------------------------\n",
      "quality_12's Unique values count:  14\n",
      "quality_12's Unique values: \n",
      "[0, 1, 2, 3, 5, ..., 10, 12, 13, 14, 11]\n",
      "Length: 14\n",
      "Categories (14, int64): [0, 1, 2, 3, ..., 12, 13, 14, 11]\n",
      "0     801156\n",
      "1      20880\n",
      "2       4524\n",
      "3       1320\n",
      "4        312\n",
      "5        192\n",
      "6        108\n",
      "8         48\n",
      "7         24\n",
      "14        12\n",
      "Name: quality_12, dtype: int64\n"
     ]
    }
   ],
   "source": [
    "show_unique(train_q)"
   ]
  },
  {
   "cell_type": "code",
   "execution_count": 238,
   "metadata": {},
   "outputs": [
    {
     "name": "stdout",
     "output_type": "stream",
     "text": [
      "----------------------------------------\n",
      "fwver's Unique values count:  22\n",
      "fwver's Unique values: \n",
      "[04.33.1261, 05.15.2138, 04.22.1750, 04.22.1778, 04.16.3553, ..., 03.11.1149, 05.15.2120, 04.33.1125, 04.16.3439, 05.15.2114]\n",
      "Length: 23\n",
      "Categories (22, object): [04.33.1261, 05.15.2138, 04.22.1750, 04.22.1778, ..., 05.15.2120, 04.33.1125, 04.16.3439, 05.15.2114]\n",
      "05.15.2138    142704\n",
      "04.22.1750    141912\n",
      "04.33.1261    121584\n",
      "04.16.3553    109056\n",
      "03.11.1167     84240\n",
      "04.22.1778     59736\n",
      "04.33.1185     57828\n",
      "04.16.3571      2172\n",
      "04.22.1684      1464\n",
      "03.11.1149      1188\n",
      "Name: fwver, dtype: int64\n",
      "----------------------------------------\n",
      "quality_0's Unique values count:  540\n",
      "quality_0's Unique values: \n",
      "[0.0, -1.0, NaN, 2.0, 8.0, ..., 10249.0, 10627.0, 10452.0, 2011.0, 239.0]\n",
      "Length: 541\n",
      "Categories (540, float64): [0.0, -1.0, 2.0, 8.0, ..., 10627.0, 10452.0, 2011.0, 239.0]\n",
      " 0.0    505710\n",
      "-1.0    127001\n",
      " 1.0      2319\n",
      " 2.0      1567\n",
      " 3.0       739\n",
      " 4.0       454\n",
      " 5.0       290\n",
      " 6.0       212\n",
      " 8.0       158\n",
      " 7.0       147\n",
      "Name: quality_0, dtype: int64\n",
      "----------------------------------------\n",
      "quality_1's Unique values count:  34\n",
      "quality_1's Unique values: \n",
      "[0, -1, 1, 4, 2, ..., 17, 73, 19, 10,452, NaN]\n",
      "Length: 35\n",
      "Categories (34, object): [0, -1, 1, 4, ..., 17, 73, 19, 10,452]\n",
      "0     601265\n",
      "-1    141905\n",
      "1       2573\n",
      "2       1119\n",
      "3        451\n",
      "4        201\n",
      "5        130\n",
      "6        101\n",
      "7         58\n",
      "8         37\n",
      "Name: quality_1, dtype: int64\n",
      "----------------------------------------\n",
      "quality_2's Unique values count:  596\n",
      "quality_2's Unique values: \n",
      "[0.0, -1.0, 1.0, NaN, 8.0, ..., 544.0, 2431.0, 2713.0, 1407.0, 1441.0]\n",
      "Length: 597\n",
      "Categories (596, float64): [0.0, -1.0, 1.0, 8.0, ..., 2431.0, 2713.0, 1407.0, 1441.0]\n",
      " 0.0    578838\n",
      "-1.0    136864\n",
      " 1.0      3690\n",
      " 2.0      1629\n",
      " 3.0       962\n",
      " 4.0       625\n",
      " 5.0       391\n",
      " 6.0       295\n",
      " 7.0       203\n",
      " 8.0       195\n",
      "Name: quality_2, dtype: int64\n",
      "----------------------------------------\n",
      "quality_3's Unique values count:  1\n",
      "quality_3's Unique values: \n",
      "[0]\n",
      "Categories (1, int64): [0]\n",
      "0    747972\n",
      "Name: quality_3, dtype: int64\n",
      "----------------------------------------\n",
      "quality_4's Unique values count:  1\n",
      "quality_4's Unique values: \n",
      "[0]\n",
      "Categories (1, int64): [0]\n",
      "0    747972\n",
      "Name: quality_4, dtype: int64\n",
      "----------------------------------------\n",
      "quality_5's Unique values count:  3994\n",
      "quality_5's Unique values: \n",
      "[0, 2, -1, 3, 1, ..., 10,226, 9,058, 1,088, 4,246, 4,434]\n",
      "Length: 3995\n",
      "Categories (3994, object): [0, 2, -1, 3, ..., 9,058, 1,088, 4,246, 4,434]\n",
      "0     399032\n",
      "-1    141788\n",
      "1      52431\n",
      "2      33814\n",
      "3      20164\n",
      "4      10797\n",
      "5       8320\n",
      "6       6500\n",
      "7       4821\n",
      "8       3983\n",
      "Name: quality_5, dtype: int64\n",
      "----------------------------------------\n",
      "quality_6's Unique values count:  528\n",
      "quality_6's Unique values: \n",
      "[0, 5, -1, 67, 93, ..., 477, 313, 257, 424, 272]\n",
      "Length: 528\n",
      "Categories (528, int64): [0, 5, -1, 67, ..., 313, 257, 424, 272]\n",
      " 0      594594\n",
      "-1      141866\n",
      " 600      1848\n",
      " 1        1206\n",
      " 5         548\n",
      " 2         521\n",
      " 3         418\n",
      " 4         400\n",
      " 6         393\n",
      " 10        309\n",
      "Name: quality_6, dtype: int64\n",
      "----------------------------------------\n",
      "quality_7's Unique values count:  839\n",
      "quality_7's Unique values: \n",
      "[5, 0, 67, 93, 60, ..., 295, 615, 928, 770, 2,065]\n",
      "Length: 839\n",
      "Categories (839, object): [5, 0, 67, 93, ..., 615, 928, 770, 2,065]\n",
      "0     682584\n",
      "1       6408\n",
      "5       3612\n",
      "2       2988\n",
      "6       2400\n",
      "3       2220\n",
      "4       2100\n",
      "10      1644\n",
      "11      1548\n",
      "7       1224\n",
      "Name: quality_7, dtype: int64\n",
      "----------------------------------------\n",
      "quality_8's Unique values count:  44\n",
      "quality_8's Unique values: \n",
      "[0, 2, 1, 4, 3, ..., 36, 31, 28, 38, 10,452]\n",
      "Length: 44\n",
      "Categories (44, object): [0, 2, 1, 4, ..., 31, 28, 38, 10,452]\n",
      "0    707868\n",
      "1     18504\n",
      "2      8304\n",
      "3      4116\n",
      "4      2424\n",
      "5      1668\n",
      "6      1188\n",
      "7       792\n",
      "8       480\n",
      "9       384\n",
      "Name: quality_8, dtype: int64\n",
      "----------------------------------------\n",
      "quality_9's Unique values count:  431\n",
      "quality_9's Unique values: \n",
      "[0, 1, 8, 63,458, 6, ..., 10,872, 2,697, 2,310, 9,471, 1,648]\n",
      "Length: 431\n",
      "Categories (431, object): [0, 1, 8, 63,458, ..., 2,697, 2,310, 9,471, 1,648]\n",
      "0    715716\n",
      "1      8772\n",
      "2      3132\n",
      "3      1920\n",
      "4      1344\n",
      "5      1248\n",
      "6       744\n",
      "7       696\n",
      "8       684\n",
      "9       564\n",
      "Name: quality_9, dtype: int64\n",
      "----------------------------------------\n",
      "quality_10's Unique values count:  3515\n",
      "quality_10's Unique values: \n",
      "[2, 3, 4, 2,556, 6, ..., 9,060, 2,778, 4,292, 2,011, 3,435]\n",
      "Length: 3515\n",
      "Categories (3515, object): [2, 3, 4, 2,556, ..., 2,778, 4,292, 2,011, 3,435]\n",
      "3    98688\n",
      "2    78984\n",
      "1    58608\n",
      "4    55608\n",
      "0    45072\n",
      "5    41208\n",
      "6    32460\n",
      "7    22056\n",
      "8    17952\n",
      "9    15588\n",
      "Name: quality_10, dtype: int64\n",
      "----------------------------------------\n",
      "quality_11's Unique values count:  13\n",
      "quality_11's Unique values: \n",
      "[0, -1, 1, 3, 2, ..., 12, 5, 17, 9, 10]\n",
      "Length: 13\n",
      "Categories (13, int64): [0, -1, 1, 3, ..., 5, 17, 9, 10]\n",
      " 0     603983\n",
      "-1     141917\n",
      " 1       1816\n",
      " 2        169\n",
      " 3         45\n",
      " 4         20\n",
      " 5         10\n",
      " 6          4\n",
      " 12         2\n",
      " 9          2\n",
      "Name: quality_11, dtype: int64\n",
      "----------------------------------------\n",
      "quality_12's Unique values count:  17\n",
      "quality_12's Unique values: \n",
      "[0, 1, 4, 2, 5, ..., 9, 10, 18, 19, 15]\n",
      "Length: 17\n",
      "Categories (17, int64): [0, 1, 4, 2, ..., 10, 18, 19, 15]\n",
      "0    727188\n",
      "1     16140\n",
      "2      2976\n",
      "3       828\n",
      "4       264\n",
      "6       168\n",
      "5       132\n",
      "8        72\n",
      "9        48\n",
      "7        36\n",
      "Name: quality_12, dtype: int64\n"
     ]
    }
   ],
   "source": [
    "show_unique(test_q)"
   ]
  },
  {
   "cell_type": "code",
   "execution_count": 239,
   "metadata": {},
   "outputs": [
    {
     "name": "stdout",
     "output_type": "stream",
     "text": [
      "----------------------------------------\n",
      "model_nm's Unique values count:  9\n",
      "model_nm's Unique values: \n",
      "[model_3, model_2, model_0, model_1, model_7, model_4, model_5, model_8, model_6]\n",
      "Categories (9, object): [model_3, model_2, model_0, model_1, ..., model_4, model_5, model_8, model_6]\n",
      "model_1    5384491\n",
      "model_0    4176279\n",
      "model_2    3473254\n",
      "model_3    1907438\n",
      "model_4    1507802\n",
      "model_8      36064\n",
      "model_7      35356\n",
      "model_5      32233\n",
      "model_6       1746\n",
      "Name: model_nm, dtype: int64\n",
      "----------------------------------------\n",
      "fwver's Unique values count:  37\n",
      "fwver's Unique values: \n",
      "[05.15.2138, 04.33.1185, 04.33.1261, 04.22.1750, 04.22.1778, ..., 04.22.1656, 04.16.2641, 05.15.2114, 04.16.3345, 05.15.2092]\n",
      "Length: 37\n",
      "Categories (37, object): [05.15.2138, 04.33.1185, 04.33.1261, 04.22.1750, ..., 04.16.2641, 05.15.2114, 04.16.3345, 05.15.2092]\n",
      "04.16.3553    5237816\n",
      "04.22.1750    2874213\n",
      "04.33.1261    2504871\n",
      "05.15.2138    1906479\n",
      "03.11.1167    1505659\n",
      "04.22.1778    1293946\n",
      "04.33.1185     963736\n",
      "04.16.3571     145156\n",
      "04.73.2237      33537\n",
      "05.66.3237      31832\n",
      "Name: fwver, dtype: int64\n",
      "----------------------------------------\n",
      "errtype's Unique values count:  41\n",
      "errtype's Unique values: \n",
      "[15, 12, 11, 16, 4, ..., 30, 2, 1, 9, 8]\n",
      "Length: 41\n",
      "Categories (41, int64): [15, 12, 11, 16, ..., 2, 1, 9, 8]\n",
      "23    2276515\n",
      "31    1985294\n",
      "22    1865361\n",
      "15    1604951\n",
      "4     1296750\n",
      "16    1249376\n",
      "32    1130564\n",
      "5      952920\n",
      "40     730378\n",
      "28     544306\n",
      "Name: errtype, dtype: int64\n",
      "----------------------------------------\n",
      "errcode's Unique values count:  2805\n",
      "errcode's Unique values: \n",
      "[1, 0, 2, NFANDROID2, B-A8002, ..., 5666, 6102, 4526, 3965, 25999]\n",
      "Length: 2806\n",
      "Categories (2805, object): [1, 0, 2, NFANDROID2, ..., 6102, 4526, 3965, 25999]\n",
      "1                     8906967\n",
      "0                     2599123\n",
      "connection timeout    1835600\n",
      "B-A8002                897863\n",
      "80                     334018\n",
      "79                     332422\n",
      "14                     263577\n",
      "active                 219238\n",
      "2                      166382\n",
      "84                     129876\n",
      "Name: errcode, dtype: int64\n"
     ]
    }
   ],
   "source": [
    "show_unique(train_e)"
   ]
  },
  {
   "cell_type": "code",
   "execution_count": 240,
   "metadata": {},
   "outputs": [
    {
     "name": "stdout",
     "output_type": "stream",
     "text": [
      "----------------------------------------\n",
      "model_nm's Unique values count:  9\n",
      "model_nm's Unique values: \n",
      "[model_1, model_2, model_3, model_0, model_4, model_5, model_6, model_7, model_8]\n",
      "Categories (9, object): [model_1, model_2, model_3, model_0, ..., model_5, model_6, model_7, model_8]\n",
      "model_1    5473847\n",
      "model_0    4350571\n",
      "model_2    3601258\n",
      "model_3    1801452\n",
      "model_4    1215796\n",
      "model_5      35462\n",
      "model_7      28694\n",
      "model_8      24994\n",
      "model_6        574\n",
      "Name: model_nm, dtype: int64\n",
      "----------------------------------------\n",
      "fwver's Unique values count:  40\n",
      "fwver's Unique values: \n",
      "[04.16.3553, 04.16.3571, 04.33.1261, 05.15.2138, 04.22.1750, ..., 10.22.1770, 10.22.1780, 04.16.3569, 04.22.1772, 04.22.1170]\n",
      "Length: 40\n",
      "Categories (40, object): [04.16.3553, 04.16.3571, 04.33.1261, 05.15.2138, ..., 10.22.1780, 04.16.3569, 04.22.1772, 04.22.1170]\n",
      "04.16.3553    5326124\n",
      "04.22.1750    2969638\n",
      "04.33.1261    2607195\n",
      "05.15.2138    1800062\n",
      "04.22.1778    1368279\n",
      "03.11.1167    1209675\n",
      "04.33.1185     987893\n",
      "04.16.3571     146942\n",
      "05.66.3237      25691\n",
      "04.82.1684      23184\n",
      "Name: fwver, dtype: int64\n",
      "----------------------------------------\n",
      "errtype's Unique values count:  41\n",
      "errtype's Unique values: \n",
      "[31, 33, 15, 22, 11, ..., 19, 2, 10, 30, 9]\n",
      "Length: 41\n",
      "Categories (41, int64): [31, 33, 15, 22, ..., 2, 10, 30, 9]\n",
      "23    2460484\n",
      "31    2093732\n",
      "22    1902001\n",
      "15    1611821\n",
      "16    1252863\n",
      "4     1186399\n",
      "32    1105789\n",
      "5      910821\n",
      "40     727986\n",
      "26     533975\n",
      "Name: errtype, dtype: int64\n",
      "----------------------------------------\n",
      "errcode's Unique values count:  2955\n",
      "errcode's Unique values: \n",
      "[1, 2, connection timeout, 0, 14, ..., 4265, 3429, 5803, 5444, 5691]\n",
      "Length: 2956\n",
      "Categories (2955, object): [1, 2, connection timeout, 0, ..., 3429, 5803, 5444, 5691]\n",
      "1                     8750154\n",
      "0                     2565532\n",
      "connection timeout    1890632\n",
      "B-A8002                855747\n",
      "80                     326179\n",
      "79                     324186\n",
      "14                     316110\n",
      "active                 225519\n",
      "2                      155401\n",
      "84                     140642\n",
      "Name: errcode, dtype: int64\n"
     ]
    }
   ],
   "source": [
    "show_unique(test_e)"
   ]
  },
  {
   "cell_type": "markdown",
   "metadata": {},
   "source": [
    "## Null Data Check & Missing Value Check"
   ]
  },
  {
   "cell_type": "code",
   "execution_count": null,
   "metadata": {},
   "outputs": [],
   "source": []
  },
  {
   "cell_type": "code",
   "execution_count": null,
   "metadata": {},
   "outputs": [],
   "source": []
  },
  {
   "cell_type": "code",
   "execution_count": null,
   "metadata": {},
   "outputs": [],
   "source": []
  },
  {
   "cell_type": "markdown",
   "metadata": {},
   "source": [
    "특이합니다. 많이 특이합니다. 일단 y_train 값은 user의 problem이 접수된 시간을 보여줍니다. 그렇다보니 user당 problem이 한 개가 아닙니다. 여러개가 있을 수 있습니다.\n",
    "\n",
    "그러나 submission은 yes or no로 제출해야 합니다. 심지어 그것을 확률로 제출해야 합니다. 즉 모든 user에 대해서 problem이 1개라도 발생할 확률을 구해야 합니다.\n",
    "\n",
    "이건 어찌보면 classification일 수 있습니다. 그러나 regression도 될 수 있습니다. 0 ~ n 까지의 target data가 있다고 생각하면 되니까요."
   ]
  },
  {
   "cell_type": "markdown",
   "metadata": {},
   "source": [
    "데이터도 매우 특이합니다. user-time 으로 테이블이 구성되어 있고, 퀄리티는 category인 것 같은데, 시간별로 계속 변합니다.\n",
    "\n",
    "에러 데이터도 마찬가지입니다. 다양한 err code가 있습니다. model_nm, fwver 은 뭔지도 모르겠습니다."
   ]
  },
  {
   "cell_type": "markdown",
   "metadata": {},
   "source": [
    "Null data와 missing value 도 매우 많습니다."
   ]
  },
  {
   "cell_type": "markdown",
   "metadata": {},
   "source": [
    "# Vanila Modeling"
   ]
  },
  {
   "cell_type": "markdown",
   "metadata": {},
   "source": [
    "# DATA PREPROCESSING"
   ]
  },
  {
   "cell_type": "markdown",
   "metadata": {},
   "source": [
    "## EDA"
   ]
  },
  {
   "cell_type": "markdown",
   "metadata": {},
   "source": [
    "## Feature Engineering"
   ]
  },
  {
   "cell_type": "markdown",
   "metadata": {},
   "source": [
    "# MODELING"
   ]
  },
  {
   "cell_type": "markdown",
   "metadata": {},
   "source": [
    "## Comparing Vanila Model"
   ]
  },
  {
   "cell_type": "markdown",
   "metadata": {},
   "source": [
    "## Hyper Parameter Tuning"
   ]
  },
  {
   "cell_type": "markdown",
   "metadata": {},
   "source": [
    "## K-fold Cross Validation"
   ]
  },
  {
   "cell_type": "markdown",
   "metadata": {},
   "source": [
    "## Ensemble & Stacking"
   ]
  },
  {
   "cell_type": "code",
   "execution_count": null,
   "metadata": {},
   "outputs": [],
   "source": []
  }
 ],
 "metadata": {
  "kernelspec": {
   "display_name": "Python 3",
   "language": "python",
   "name": "python3"
  },
  "language_info": {
   "codemirror_mode": {
    "name": "ipython",
    "version": 3
   },
   "file_extension": ".py",
   "mimetype": "text/x-python",
   "name": "python",
   "nbconvert_exporter": "python",
   "pygments_lexer": "ipython3",
   "version": "3.7.7"
  },
  "toc-autonumbering": false,
  "toc-showcode": false,
  "toc-showtags": false
 },
 "nbformat": 4,
 "nbformat_minor": 4
}
