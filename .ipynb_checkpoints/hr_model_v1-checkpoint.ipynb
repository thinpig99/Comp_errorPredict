{
 "cells": [
  {
   "cell_type": "markdown",
   "metadata": {},
   "source": [
    "## 0.패키지 임포트 "
   ]
  },
  {
   "cell_type": "code",
   "execution_count": 1,
   "metadata": {},
   "outputs": [],
   "source": [
    "import pandas as pd\n",
    "import numpy as np\n",
    "\n",
    "import lightgbm as lgb\n",
    "\n",
    "from ngboost import NGBClassifier\n",
    "from ngboost.distns import k_categorical, Bernoulli\n",
    "from ngboost.scores import LogScore, CRPScore\n",
    "\n",
    "from sklearn.ensemble import GradientBoostingClassifier\n",
    "\n",
    "from sklearn.model_selection import StratifiedKFold\n",
    "from sklearn.model_selection import KFold\n",
    "from sklearn.metrics import *\n",
    "import warnings\n",
    "warnings.filterwarnings(action = 'ignore')"
   ]
  },
  {
   "cell_type": "markdown",
   "metadata": {},
   "source": [
    "## "
   ]
  },
  {
   "cell_type": "markdown",
   "metadata": {},
   "source": [
    "## 1. 데이터 불러오기 "
   ]
  },
  {
   "cell_type": "code",
   "execution_count": 2,
   "metadata": {},
   "outputs": [],
   "source": [
    "train_x = pd.read_csv(\"./datasets/x_train.csv\")\n",
    "target = pd.read_csv(\"./datasets/y_train.csv\")\n",
    "test = pd.read_csv(\"./datasets/x_test.csv\")"
   ]
  },
  {
   "cell_type": "code",
   "execution_count": 3,
   "metadata": {},
   "outputs": [],
   "source": [
    "train_x = np.array(train_x)\n",
    "target = np.array(target.target)\n",
    "test = np.array(test)"
   ]
  },
  {
   "cell_type": "markdown",
   "metadata": {},
   "source": [
    "## "
   ]
  },
  {
   "cell_type": "markdown",
   "metadata": {},
   "source": [
    "## 2. 모델링\n",
    "* ngboost"
   ]
  },
  {
   "cell_type": "code",
   "execution_count": 147,
   "metadata": {},
   "outputs": [
    {
     "name": "stdout",
     "output_type": "stream",
     "text": [
      "[iter 0] loss=0.6365 val_loss=0.6266 scale=2.0000 norm=4.0000\n",
      "[iter 100] loss=0.4624 val_loss=0.4733 scale=1.0000 norm=1.8385\n",
      "== Early stopping achieved.\n",
      "== Best iteration / VAL175 (val_loss=0.4671)\n",
      "=============================================\n",
      "[iter 0] loss=0.6365 val_loss=0.6263 scale=2.0000 norm=4.0000\n",
      "[iter 100] loss=0.4646 val_loss=0.4608 scale=2.0000 norm=3.6658\n",
      "== Early stopping achieved.\n",
      "== Best iteration / VAL162 (val_loss=0.4549)\n",
      "=============================================\n",
      "[iter 0] loss=0.6365 val_loss=0.6271 scale=2.0000 norm=4.0000\n",
      "[iter 100] loss=0.4604 val_loss=0.4802 scale=1.0000 norm=1.8321\n",
      "[iter 200] loss=0.4456 val_loss=0.4720 scale=1.0000 norm=1.8577\n",
      "== Early stopping achieved.\n",
      "== Best iteration / VAL239 (val_loss=0.4712)\n",
      "=============================================\n",
      "[iter 0] loss=0.6365 val_loss=0.6267 scale=2.0000 norm=4.0000\n",
      "[iter 100] loss=0.4618 val_loss=0.4714 scale=1.0000 norm=1.8389\n",
      "[iter 200] loss=0.4469 val_loss=0.4624 scale=1.0000 norm=1.8626\n",
      "== Early stopping achieved.\n",
      "== Best iteration / VAL274 (val_loss=0.4602)\n",
      "=============================================\n",
      "[iter 0] loss=0.6365 val_loss=0.6273 scale=2.0000 norm=4.0000\n",
      "[iter 100] loss=0.4588 val_loss=0.4854 scale=2.0000 norm=3.6732\n",
      "[iter 200] loss=0.4437 val_loss=0.4782 scale=1.0000 norm=1.8620\n",
      "== Early stopping achieved.\n",
      "== Best iteration / VAL228 (val_loss=0.4776)\n",
      "=============================================\n"
     ]
    }
   ],
   "source": [
    "## ngboost\n",
    "def f_pr_auc(probas_pred, y_true):\n",
    "    labels = y_true.get_label()\n",
    "    p, r, _ = precision_recall_curve(labels, probas_pred)\n",
    "    score = auc(r, p)\n",
    "    return \"pr_auc\", score, True\n",
    "\n",
    "models = []\n",
    "recalls = []\n",
    "precisions =[]\n",
    "auc_scores = []\n",
    "threshold = 0.5\n",
    "# params = {\n",
    "#     'Dist' : k_categorical(2),\n",
    "#     'random_state' : 42,\n",
    "# }\n",
    "\n",
    "k_fold = StratifiedKFold(n_splits=5, shuffle=True, random_state=42)\n",
    "for train_idx, val_idx in k_fold.split(train_x, target):\n",
    "    X = train_x[train_idx]\n",
    "    y = target[train_idx].astype(np.int)\n",
    "    valid_x = train_x[val_idx]\n",
    "    valid_y = target[val_idx].astype(np.int)\n",
    "\n",
    "    model = NGBClassifier(\n",
    "                            Dist = k_categorical(2),\n",
    "                            n_estimators = 1000,\n",
    "                            learning_rate = 0.02\n",
    "                        )\n",
    "    model.fit(X, y, X_val=valid_x, Y_val = valid_y, early_stopping_rounds = 3)\n",
    "    valid_prob = model.predict_proba(valid_x)[:,1]\n",
    "    valid_pred = np.where(valid_prob > threshold, 1, 0)\n",
    "    \n",
    "    recall = recall_score(valid_y, valid_pred)\n",
    "    precision = precision_score(valid_y, valid_pred)\n",
    "    auc_score = roc_auc_score(valid_y, valid_prob)\n",
    "    \n",
    "    models.append(model)\n",
    "    recalls.append(recall)\n",
    "    precisions.append(precision)\n",
    "    auc_scores.append(auc_score)\n",
    "    \n",
    "    print(\"=============================================\")"
   ]
  },
  {
   "cell_type": "code",
   "execution_count": 148,
   "metadata": {},
   "outputs": [
    {
     "data": {
      "text/plain": [
       "0.8201921999999999"
      ]
     },
     "execution_count": 148,
     "metadata": {},
     "output_type": "execute_result"
    }
   ],
   "source": [
    "np.mean(auc_scores)"
   ]
  },
  {
   "cell_type": "code",
   "execution_count": 149,
   "metadata": {},
   "outputs": [],
   "source": [
    "pred_y_list = []\n",
    "for model in models:\n",
    "    pred_y = model.predict_proba(test)[:,0]\n",
    "    pred_y_list.append(pred_y.reshape(-1, 1))\n",
    "    \n",
    "pred_ensemble = np.mean(pred_y_list, axis=0)"
   ]
  },
  {
   "cell_type": "code",
   "execution_count": 150,
   "metadata": {},
   "outputs": [
    {
     "data": {
      "text/plain": [
       "array([[0.026541  ],\n",
       "       [0.77323292],\n",
       "       [0.5413317 ],\n",
       "       ...,\n",
       "       [0.36976752],\n",
       "       [0.10665222],\n",
       "       [0.73052152]])"
      ]
     },
     "execution_count": 150,
     "metadata": {},
     "output_type": "execute_result"
    }
   ],
   "source": [
    "pred_ensemble"
   ]
  },
  {
   "cell_type": "code",
   "execution_count": 151,
   "metadata": {},
   "outputs": [],
   "source": [
    "sample_submission['problem'] = pred_ensemble.reshape(-1)"
   ]
  },
  {
   "cell_type": "code",
   "execution_count": 152,
   "metadata": {},
   "outputs": [
    {
     "data": {
      "text/html": [
       "<div>\n",
       "<style scoped>\n",
       "    .dataframe tbody tr th:only-of-type {\n",
       "        vertical-align: middle;\n",
       "    }\n",
       "\n",
       "    .dataframe tbody tr th {\n",
       "        vertical-align: top;\n",
       "    }\n",
       "\n",
       "    .dataframe thead th {\n",
       "        text-align: right;\n",
       "    }\n",
       "</style>\n",
       "<table border=\"1\" class=\"dataframe\">\n",
       "  <thead>\n",
       "    <tr style=\"text-align: right;\">\n",
       "      <th></th>\n",
       "      <th>user_id</th>\n",
       "      <th>problem</th>\n",
       "    </tr>\n",
       "  </thead>\n",
       "  <tbody>\n",
       "    <tr>\n",
       "      <th>0</th>\n",
       "      <td>30000</td>\n",
       "      <td>0.026541</td>\n",
       "    </tr>\n",
       "    <tr>\n",
       "      <th>1</th>\n",
       "      <td>30001</td>\n",
       "      <td>0.773233</td>\n",
       "    </tr>\n",
       "    <tr>\n",
       "      <th>2</th>\n",
       "      <td>30002</td>\n",
       "      <td>0.541332</td>\n",
       "    </tr>\n",
       "    <tr>\n",
       "      <th>3</th>\n",
       "      <td>30003</td>\n",
       "      <td>0.192490</td>\n",
       "    </tr>\n",
       "    <tr>\n",
       "      <th>4</th>\n",
       "      <td>30004</td>\n",
       "      <td>0.054929</td>\n",
       "    </tr>\n",
       "    <tr>\n",
       "      <th>...</th>\n",
       "      <td>...</td>\n",
       "      <td>...</td>\n",
       "    </tr>\n",
       "    <tr>\n",
       "      <th>14994</th>\n",
       "      <td>44994</td>\n",
       "      <td>0.811991</td>\n",
       "    </tr>\n",
       "    <tr>\n",
       "      <th>14995</th>\n",
       "      <td>44995</td>\n",
       "      <td>0.715574</td>\n",
       "    </tr>\n",
       "    <tr>\n",
       "      <th>14996</th>\n",
       "      <td>44996</td>\n",
       "      <td>0.369768</td>\n",
       "    </tr>\n",
       "    <tr>\n",
       "      <th>14997</th>\n",
       "      <td>44997</td>\n",
       "      <td>0.106652</td>\n",
       "    </tr>\n",
       "    <tr>\n",
       "      <th>14998</th>\n",
       "      <td>44998</td>\n",
       "      <td>0.730522</td>\n",
       "    </tr>\n",
       "  </tbody>\n",
       "</table>\n",
       "<p>14999 rows × 2 columns</p>\n",
       "</div>"
      ],
      "text/plain": [
       "       user_id   problem\n",
       "0        30000  0.026541\n",
       "1        30001  0.773233\n",
       "2        30002  0.541332\n",
       "3        30003  0.192490\n",
       "4        30004  0.054929\n",
       "...        ...       ...\n",
       "14994    44994  0.811991\n",
       "14995    44995  0.715574\n",
       "14996    44996  0.369768\n",
       "14997    44997  0.106652\n",
       "14998    44998  0.730522\n",
       "\n",
       "[14999 rows x 2 columns]"
      ]
     },
     "execution_count": 152,
     "metadata": {},
     "output_type": "execute_result"
    }
   ],
   "source": [
    "sample_submission"
   ]
  },
  {
   "cell_type": "code",
   "execution_count": 153,
   "metadata": {},
   "outputs": [],
   "source": [
    "sample_submission.to_csv(\"submission_ngb_v1.csv\", index=False)"
   ]
  },
  {
   "cell_type": "code",
   "execution_count": null,
   "metadata": {},
   "outputs": [],
   "source": []
  },
  {
   "cell_type": "markdown",
   "metadata": {},
   "source": [
    "* GradientBoostingClassifier"
   ]
  },
  {
   "cell_type": "code",
   "execution_count": 4,
   "metadata": {},
   "outputs": [],
   "source": [
    "gbc = GradientBoostingClassifier(ccp_alpha=0.0, criterion='friedman_mse', init=None,\n",
    "                           learning_rate=0.1, loss='deviance', max_depth=3,\n",
    "                           max_features=None, max_leaf_nodes=None,\n",
    "                           min_impurity_decrease=0.0, min_impurity_split=None,\n",
    "                           min_samples_leaf=1, min_samples_split=2,\n",
    "                           min_weight_fraction_leaf=0.0, n_estimators=100,\n",
    "                           n_iter_no_change=None, presort='deprecated',\n",
    "                           random_state=2584, subsample=1.0, tol=0.0001,\n",
    "                           validation_fraction=0.1, verbose=0,\n",
    "                           warm_start=False)"
   ]
  },
  {
   "cell_type": "code",
   "execution_count": 5,
   "metadata": {},
   "outputs": [
    {
     "name": "stdout",
     "output_type": "stream",
     "text": [
      "[1 0 0 ... 0 0 0]\n",
      "0.7310000000000001\n",
      "==========================================================\n",
      "[0 1 0 ... 0 1 0]\n",
      "0.733\n",
      "==========================================================\n",
      "[0 1 1 ... 0 0 0]\n",
      "0.7169999999999999\n",
      "==========================================================\n",
      "[0 0 0 ... 0 0 0]\n",
      "0.7209999999999999\n",
      "==========================================================\n",
      "[1 0 1 ... 0 0 0]\n",
      "0.7160000000000001\n",
      "==========================================================\n"
     ]
    }
   ],
   "source": [
    "## GBC\n",
    "#-------------------------------------------------------------------------------------\n",
    "# validation auc score를 확인하기 위해 정의\n",
    "def f_pr_auc(probas_pred, y_true):\n",
    "    labels=y_true.get_label()\n",
    "    p, r, _ = precision_recall_curve(labels, probas_pred)\n",
    "    score=auc(r,p) \n",
    "    return \"pr_auc\", score, True\n",
    "#-------------------------------------------------------------------------------------\n",
    "models     = []\n",
    "recalls    = []\n",
    "precisions = []\n",
    "auc_scores   = []\n",
    "threshold = 0.5\n",
    "# 파라미터 설정\n",
    "# params =      {\n",
    "#                 'ccp_alpha'     : 0.0,\n",
    "#                 'criterion'     : 'friedman_mse',\n",
    "#                 'init'          : None,\n",
    "#                 'learning_rate' : 0.1,\n",
    "#                 'loss'          : 'deviance',\n",
    "#                 'max_depth'     : 3,\n",
    "#                 'max_feature'   : None,\n",
    "#                 'max_leaf_nodes': None,\n",
    "#                 'min_impurity_decrease' : 0.0,\n",
    "#                 'min_impurity_split'    : None,\n",
    "#                 'min_samples_leaf'      : 1,\n",
    "#                 'min_samples_split'     : 2,\n",
    "#                 'min_weight_fraction_leaf' : 0.0,\n",
    "#                 'n_estimators'             : 100,\n",
    "#                 'n_iter_no_change'         : None,\n",
    "#                 'presort'                  : 'deprecated',\n",
    "#                 'random_state'             : 2584,\n",
    "#                 'subsample'                : 1.0,\n",
    "#                 'tol'                      : 0.0001,\n",
    "#                 'validation_fraction'      : 0.1,\n",
    "#                 'verbose'                  : 0,\n",
    "#                 'warm_start'               : False\n",
    "#                 }\n",
    "#-------------------------------------------------------------------------------------\n",
    "# 5 Kfold cross validation\n",
    "k_fold = StratifiedKFold(n_splits=5, shuffle=True, random_state=42)\n",
    "for train_idx, val_idx in k_fold.split(train_x, target):\n",
    "\n",
    "    # split train, validation set\n",
    "    X = train_x[train_idx]\n",
    "    y = target[train_idx]\n",
    "    valid_x = train_x[val_idx]\n",
    "    valid_y = target[val_idx]\n",
    "\n",
    "#     d_train= lgb.Dataset(X, y)\n",
    "#     d_val  = lgb.Dataset(valid_x, valid_y)\n",
    "    \n",
    "    \n",
    "    #run traning\n",
    "    model = gbc.fit(\n",
    "                        X,\n",
    "                        y\n",
    "                       )\n",
    "    \n",
    "    # cal valid prediction\n",
    "    valid_prob = model.predict(valid_x)\n",
    "    valid_pred = np.where(valid_prob > threshold, 1, 0)\n",
    "    \n",
    "    print(valid_prob)\n",
    "    \n",
    "    # cal scores\n",
    "    recall    = recall_score(    valid_y, valid_pred)\n",
    "    precision = precision_score( valid_y, valid_pred)\n",
    "    auc_score = roc_auc_score(   valid_y, valid_prob)\n",
    "\n",
    "    print(auc_score)\n",
    "    \n",
    "    # append scores\n",
    "    models.append(model)\n",
    "    recalls.append(recall)\n",
    "    precisions.append(precision)\n",
    "    auc_scores.append(auc_score)\n",
    "\n",
    "    print('==========================================================')"
   ]
  },
  {
   "cell_type": "code",
   "execution_count": 6,
   "metadata": {},
   "outputs": [
    {
     "data": {
      "text/plain": [
       "0.7160000000000001"
      ]
     },
     "execution_count": 6,
     "metadata": {},
     "output_type": "execute_result"
    }
   ],
   "source": [
    "np.mean(auc_score)"
   ]
  },
  {
   "cell_type": "code",
   "execution_count": 7,
   "metadata": {},
   "outputs": [],
   "source": [
    "pred_y_list = []\n",
    "for model in models:\n",
    "    pred_y = model.predict_proba(test)[:,1]\n",
    "    pred_y_list.append(pred_y.reshape(-1, 1))\n",
    "    \n",
    "pred_ensemble = np.mean(pred_y_list, axis=0)"
   ]
  },
  {
   "cell_type": "code",
   "execution_count": 10,
   "metadata": {},
   "outputs": [],
   "source": [
    "sample_submission = pd.read_csv(\"./datasets/sample_submission.csv\")"
   ]
  },
  {
   "cell_type": "code",
   "execution_count": 12,
   "metadata": {},
   "outputs": [],
   "source": [
    "sample_submission['problem'] = pred_ensemble.reshape(-1)"
   ]
  },
  {
   "cell_type": "code",
   "execution_count": 126,
   "metadata": {},
   "outputs": [
    {
     "data": {
      "text/html": [
       "<div>\n",
       "<style scoped>\n",
       "    .dataframe tbody tr th:only-of-type {\n",
       "        vertical-align: middle;\n",
       "    }\n",
       "\n",
       "    .dataframe tbody tr th {\n",
       "        vertical-align: top;\n",
       "    }\n",
       "\n",
       "    .dataframe thead th {\n",
       "        text-align: right;\n",
       "    }\n",
       "</style>\n",
       "<table border=\"1\" class=\"dataframe\">\n",
       "  <thead>\n",
       "    <tr style=\"text-align: right;\">\n",
       "      <th></th>\n",
       "      <th>user_id</th>\n",
       "      <th>problem</th>\n",
       "    </tr>\n",
       "  </thead>\n",
       "  <tbody>\n",
       "    <tr>\n",
       "      <th>0</th>\n",
       "      <td>30000</td>\n",
       "      <td>0.049398</td>\n",
       "    </tr>\n",
       "    <tr>\n",
       "      <th>1</th>\n",
       "      <td>30001</td>\n",
       "      <td>0.749064</td>\n",
       "    </tr>\n",
       "    <tr>\n",
       "      <th>2</th>\n",
       "      <td>30002</td>\n",
       "      <td>0.502084</td>\n",
       "    </tr>\n",
       "    <tr>\n",
       "      <th>3</th>\n",
       "      <td>30003</td>\n",
       "      <td>0.250826</td>\n",
       "    </tr>\n",
       "    <tr>\n",
       "      <th>4</th>\n",
       "      <td>30004</td>\n",
       "      <td>0.107821</td>\n",
       "    </tr>\n",
       "    <tr>\n",
       "      <th>...</th>\n",
       "      <td>...</td>\n",
       "      <td>...</td>\n",
       "    </tr>\n",
       "    <tr>\n",
       "      <th>14994</th>\n",
       "      <td>44994</td>\n",
       "      <td>0.794622</td>\n",
       "    </tr>\n",
       "    <tr>\n",
       "      <th>14995</th>\n",
       "      <td>44995</td>\n",
       "      <td>0.668592</td>\n",
       "    </tr>\n",
       "    <tr>\n",
       "      <th>14996</th>\n",
       "      <td>44996</td>\n",
       "      <td>0.273312</td>\n",
       "    </tr>\n",
       "    <tr>\n",
       "      <th>14997</th>\n",
       "      <td>44997</td>\n",
       "      <td>0.124996</td>\n",
       "    </tr>\n",
       "    <tr>\n",
       "      <th>14998</th>\n",
       "      <td>44998</td>\n",
       "      <td>0.649939</td>\n",
       "    </tr>\n",
       "  </tbody>\n",
       "</table>\n",
       "<p>14999 rows × 2 columns</p>\n",
       "</div>"
      ],
      "text/plain": [
       "       user_id   problem\n",
       "0        30000  0.049398\n",
       "1        30001  0.749064\n",
       "2        30002  0.502084\n",
       "3        30003  0.250826\n",
       "4        30004  0.107821\n",
       "...        ...       ...\n",
       "14994    44994  0.794622\n",
       "14995    44995  0.668592\n",
       "14996    44996  0.273312\n",
       "14997    44997  0.124996\n",
       "14998    44998  0.649939\n",
       "\n",
       "[14999 rows x 2 columns]"
      ]
     },
     "execution_count": 126,
     "metadata": {},
     "output_type": "execute_result"
    }
   ],
   "source": [
    "sample_submission"
   ]
  },
  {
   "cell_type": "code",
   "execution_count": 13,
   "metadata": {},
   "outputs": [],
   "source": [
    "sample_submission.to_csv(\"submission_gbc_v2.csv\", index=False)"
   ]
  },
  {
   "cell_type": "code",
   "execution_count": null,
   "metadata": {},
   "outputs": [],
   "source": []
  }
 ],
 "metadata": {
  "kernelspec": {
   "display_name": "Python 3",
   "language": "python",
   "name": "python3"
  },
  "language_info": {
   "codemirror_mode": {
    "name": "ipython",
    "version": 3
   },
   "file_extension": ".py",
   "mimetype": "text/x-python",
   "name": "python",
   "nbconvert_exporter": "python",
   "pygments_lexer": "ipython3",
   "version": "3.7.7"
  }
 },
 "nbformat": 4,
 "nbformat_minor": 4
}
